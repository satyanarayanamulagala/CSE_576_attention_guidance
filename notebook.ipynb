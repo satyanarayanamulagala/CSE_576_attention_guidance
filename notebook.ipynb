{
 "cells": [
  {
   "cell_type": "code",
   "execution_count": 1,
   "metadata": {},
   "outputs": [],
   "source": [
    "from IPython.core.interactiveshell import InteractiveShell\n",
    "InteractiveShell.ast_node_interactivity = \"all\""
   ]
  },
  {
   "cell_type": "code",
   "execution_count": 2,
   "metadata": {},
   "outputs": [],
   "source": [
    "from utils.tokens_utils import ORDER_TOKENS"
   ]
  },
  {
   "cell_type": "code",
   "execution_count": 3,
   "metadata": {},
   "outputs": [
    {
     "data": {
      "text/plain": [
       "['Following',\n",
       " ' following',\n",
       " 'Previously',\n",
       " ' previously',\n",
       " 'First',\n",
       " ' first',\n",
       " 'Second',\n",
       " ' second',\n",
       " 'Third',\n",
       " ' third',\n",
       " 'Finally',\n",
       " ' finally',\n",
       " 'Sub',\n",
       " ' sub',\n",
       " 'sequently',\n",
       " ' sequently',\n",
       " 'Before',\n",
       " ' before',\n",
       " 'Fore',\n",
       " ' fore',\n",
       " 'most']"
      ]
     },
     "execution_count": 3,
     "metadata": {},
     "output_type": "execute_result"
    }
   ],
   "source": [
    "t = ORDER_TOKENS\n",
    "t"
   ]
  },
  {
   "cell_type": "code",
   "execution_count": null,
   "metadata": {},
   "outputs": [],
   "source": []
  }
 ],
 "metadata": {
  "kernelspec": {
   "display_name": "base",
   "language": "python",
   "name": "python3"
  },
  "language_info": {
   "codemirror_mode": {
    "name": "ipython",
    "version": 3
   },
   "file_extension": ".py",
   "mimetype": "text/x-python",
   "name": "python",
   "nbconvert_exporter": "python",
   "pygments_lexer": "ipython3",
   "version": "3.11.4"
  },
  "orig_nbformat": 4
 },
 "nbformat": 4,
 "nbformat_minor": 2
}
